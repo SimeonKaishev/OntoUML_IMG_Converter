{
  "nbformat": 4,
  "nbformat_minor": 0,
  "metadata": {
    "colab": {
      "provenance": []
    },
    "kernelspec": {
      "name": "python3",
      "display_name": "Python 3"
    },
    "language_info": {
      "name": "python"
    }
  },
  "cells": [
    {
      "cell_type": "markdown",
      "source": [
        "imports"
      ],
      "metadata": {
        "id": "JhumVJPcB30i"
      }
    },
    {
      "cell_type": "code",
      "execution_count": 20,
      "metadata": {
        "colab": {
          "base_uri": "https://localhost:8080/"
        },
        "id": "aRbYy_FwAheS",
        "outputId": "f873b431-4b4c-450b-a41d-0cace895e1c5"
      },
      "outputs": [
        {
          "output_type": "stream",
          "name": "stdout",
          "text": [
            "Mounted at /content/drive\n"
          ]
        }
      ],
      "source": [
        "from PIL import Image\n",
        "import matplotlib.pyplot as plt\n",
        "import cv2\n",
        "from google.colab import drive\n",
        "from google.colab.patches import cv2_imshow\n",
        "drive.mount('/content/drive',  force_remount=True)\n",
        "data_path = '/content/drive/My Drive/Onto_UML_Data/Relation_Images2/'\n",
        "\n",
        "\n",
        "import pandas as pd\n",
        "import numpy as np\n",
        "import os\n",
        "import matplotlib.pyplot as plt\n",
        "import csv\n",
        "import time\n",
        "\n",
        "\n",
        "from sklearn.model_selection import KFold, StratifiedKFold\n",
        "from os import listdir\n",
        "from os.path import isfile, join"
      ]
    },
    {
      "cell_type": "markdown",
      "source": [
        "ml imports"
      ],
      "metadata": {
        "id": "Z5lZHv6qrQzC"
      }
    },
    {
      "cell_type": "code",
      "source": [
        "import keras\n",
        "\n",
        "from keras.layers import Dense\n",
        "from keras.layers import GlobalAveragePooling2D\n",
        "from keras.layers import GlobalMaxPooling1D\n",
        "from keras.layers import Activation\n",
        "from keras.layers import Flatten\n",
        "from keras.layers import Dropout\n",
        "from keras.layers import Input\n",
        "from keras.layers import Conv2D, MaxPooling2D, BatchNormalization\n",
        "\n",
        "from keras.models import Model\n",
        "from keras.models import Sequential\n",
        "\n",
        "from keras.applications.inception_v3 import InceptionV3\n",
        "from keras.applications.inception_v3 import preprocess_input\n",
        "\n",
        "from keras.preprocessing import image\n",
        "from keras.preprocessing.image import ImageDataGenerator\n",
        "\n",
        "\n",
        "from keras.optimizers import Adam\n",
        "from keras.optimizers import SGD\n",
        "\n",
        "from keras.callbacks import ModelCheckpoint, EarlyStopping, ReduceLROnPlateau\n",
        "\n",
        "from sklearn.model_selection import train_test_split\n",
        "from tensorflow.keras.applications import InceptionV3\n",
        "from tensorflow.keras.models import Model\n",
        "from tensorflow.keras.layers import Dense, GlobalAveragePooling2D\n",
        "from tensorflow.keras.optimizers import Adam\n",
        "\n",
        "from sklearn.metrics import confusion_matrix, ConfusionMatrixDisplay\n",
        "import matplotlib.pyplot as plt"
      ],
      "metadata": {
        "id": "vU1DBd9jrPOT"
      },
      "execution_count": 21,
      "outputs": []
    },
    {
      "cell_type": "markdown",
      "source": [
        "image size"
      ],
      "metadata": {
        "id": "U8xHT8x2CE3f"
      }
    },
    {
      "cell_type": "code",
      "source": [
        "image_size = (100, 100)\n",
        "image_height, image_width = image_size"
      ],
      "metadata": {
        "id": "pmmqWgnJCCWS"
      },
      "execution_count": 22,
      "outputs": []
    },
    {
      "cell_type": "markdown",
      "source": [
        "prep image by resizing to 100x100, and doing data augmentation"
      ],
      "metadata": {
        "id": "A4gQvfa0Cese"
      }
    },
    {
      "cell_type": "code",
      "source": [
        "def resize_and_augment_img(image_path):\n",
        "    # Read image\n",
        "    image = cv2.imread(image_path)\n",
        "\n",
        "    # Resize image to 100x100\n",
        "    resized_image = cv2.resize(image, image_size)\n",
        "\n",
        "    # List to hold all augmented images\n",
        "    augmented_images = []\n",
        "\n",
        "    # Rotations: 0, 90, 180, 270 degrees\n",
        "    for k in range(4):\n",
        "        # Rotate the image\n",
        "        rotated_image = np.rot90(resized_image, k)\n",
        "\n",
        "        augmented_images.append(rotated_image)\n",
        "\n",
        "        # Mirror the image horizontally\n",
        "        mirrored_image = np.fliplr(rotated_image)\n",
        "        augmented_images.append(mirrored_image)\n",
        "\n",
        "    return augmented_images\n",
        "\n",
        "# Example usage:\n",
        "# augmented_images = resize_and_augment_img(\"path_to_your_image.jpg\")\n",
        "# for idx, img in enumerate(augmented_images):\n",
        "#     cv2.imwrite(f\"augmented_image_{idx}.jpg\", img)"
      ],
      "metadata": {
        "id": "b3bs7I2yC2fj"
      },
      "execution_count": 23,
      "outputs": []
    },
    {
      "cell_type": "markdown",
      "source": [
        "Go over image directories and create dataset arrays"
      ],
      "metadata": {
        "id": "CpEQU184FGZn"
      }
    },
    {
      "cell_type": "code",
      "source": [
        "def preprocess_and_create_xy_arrays(input_dirs):\n",
        "\n",
        "    df = pd.DataFrame()  # Initialize an empty DataFrame\n",
        "\n",
        "    images = []  # List to store image data\n",
        "    labels = []  # List to store class labels\n",
        "\n",
        "    cntr = 0;\n",
        "    for class_label, input_dir in enumerate(input_dirs):\n",
        "        for filename in os.listdir(input_dir):\n",
        "            if filename.endswith(('.png', '.jpg', '.jpeg')):\n",
        "                input_path = os.path.join(input_dir, filename)\n",
        "                augmented_images = resize_and_augment_img(input_path)\n",
        "                for ag_img in augmented_images:\n",
        "                  images.append(ag_img)\n",
        "                  labels.append(class_label)\n",
        "\n",
        "    images_array = np.array(images)\n",
        "    labels_array = np.array(labels)\n",
        "    return images_array, labels_array\n"
      ],
      "metadata": {
        "id": "be2t3vxgFGuu"
      },
      "execution_count": 24,
      "outputs": []
    },
    {
      "cell_type": "markdown",
      "source": [
        "Use previous methods to load in training images"
      ],
      "metadata": {
        "id": "p0HvQnEbq97L"
      }
    },
    {
      "cell_type": "code",
      "source": [
        "input_dirs = [f\"{data_path}/GEN\", f\"{data_path}/REL\", f\"{data_path}/END\"]\n",
        "X, y = preprocess_and_create_xy_arrays(input_dirs)"
      ],
      "metadata": {
        "id": "aELZc3GnqLYc"
      },
      "execution_count": 25,
      "outputs": []
    },
    {
      "cell_type": "markdown",
      "source": [
        "Flatten image arrays and splint into training, validataion and test datasets"
      ],
      "metadata": {
        "id": "IY4wRFizqLRW"
      }
    },
    {
      "cell_type": "code",
      "source": [
        "# Flatten image arrays\n",
        "X = X.reshape(-1, image_height, image_width, 3)  # Assuming grayscale images, use 3 instead of 1 for RGB images\n",
        "\n",
        "# Split the Data into Training and Validation Sets\n",
        "\n",
        "# Split the Data into Training and Test Sets\n",
        "X_train_val, X_test, y_train_val, y_test = train_test_split(X, y, test_size=0.2, random_state=42)\n",
        "\n",
        "# Split the Training Set into Training and Validation Sets\n",
        "X_train, X_val, y_train, y_val = train_test_split(X_train_val, y_train_val, test_size=0.2, random_state=42)\n",
        "# Note: test_size=0.25 of 80% (remaining data) results in 20% validation data"
      ],
      "metadata": {
        "id": "boKH1v6Orc9Z"
      },
      "execution_count": 26,
      "outputs": []
    },
    {
      "cell_type": "markdown",
      "source": [
        "Load InceptionV3 model and add necessary layers"
      ],
      "metadata": {
        "id": "2NWHeDZVss3x"
      }
    },
    {
      "cell_type": "code",
      "source": [
        "# Load Model\n",
        "base_model = InceptionV3(weights='imagenet', include_top=False, input_shape=(image_height, image_width, 3))\n",
        "\n",
        "# Freeze Layers\n",
        "for layer in base_model.layers[:175]:\n",
        "    layer.trainable = False\n",
        "for layer in base_model.layers[175:]:\n",
        "    layer.trainable = True\n",
        "\n",
        "# Add Additional Layers\n",
        "x = base_model.output\n",
        "# Add pooling layer\n",
        "x = GlobalAveragePooling2D()(x)\n",
        "# Add final layer for classification\n",
        "predictions = Dense(3, activation='softmax')(x)  # Add an output layer\n",
        "\n",
        "# Initialise the Model\n",
        "model = Model(inputs=base_model.input, outputs=predictions)\n",
        "\n",
        "# Compile\n",
        "model.compile(optimizer=Adam(), loss='sparse_categorical_crossentropy', metrics=['accuracy'])"
      ],
      "metadata": {
        "id": "pzyL7SnwsuC4"
      },
      "execution_count": 27,
      "outputs": []
    },
    {
      "cell_type": "markdown",
      "source": [
        "Train Model"
      ],
      "metadata": {
        "id": "Bu_HCkFStJDh"
      }
    },
    {
      "cell_type": "code",
      "source": [
        "early_stopping = EarlyStopping(monitor='val_loss', patience=5, restore_best_weights=True)\n",
        "\n",
        "# learning rate reduction to avoid overfitting\n",
        "reduce_learning_rate = ReduceLROnPlateau(\n",
        "    monitor=\"val_loss\",\n",
        "    factor=0.1,\n",
        "    patience=3,\n",
        "    verbose=1,\n",
        "    mode=\"auto\",\n",
        "    min_delta=0.0001,\n",
        "    cooldown=0,\n",
        "    min_lr=1e-4\n",
        "    )\n",
        "\n",
        "\n",
        "print(\"training model\")\n",
        "# Train the Model\n",
        "model.fit(X_train, y_train, epochs=10, validation_data=(X_val, y_val),  callbacks=[early_stopping, reduce_learning_rate])\n",
        "\n",
        "# Evaluate the Model (optional)\n",
        "loss, accuracy = model.evaluate(X_val, y_val)\n",
        "print(\"Validation Accuracy:\", accuracy)\n"
      ],
      "metadata": {
        "colab": {
          "base_uri": "https://localhost:8080/"
        },
        "id": "LNrlnkSNtJiO",
        "outputId": "01b112cd-358c-4374-e60d-bdceb0e01d90"
      },
      "execution_count": 28,
      "outputs": [
        {
          "output_type": "stream",
          "name": "stdout",
          "text": [
            "training model\n",
            "Epoch 1/10\n",
            "29/29 [==============================] - 55s 1s/step - loss: 0.8556 - accuracy: 0.6992 - val_loss: 65.7644 - val_accuracy: 0.3766 - lr: 0.0010\n",
            "Epoch 2/10\n",
            "29/29 [==============================] - 40s 1s/step - loss: 0.5388 - accuracy: 0.8252 - val_loss: 275.1922 - val_accuracy: 0.3550 - lr: 0.0010\n",
            "Epoch 3/10\n",
            "29/29 [==============================] - 40s 1s/step - loss: 0.3895 - accuracy: 0.8903 - val_loss: 1.2672 - val_accuracy: 0.5455 - lr: 0.0010\n",
            "Epoch 4/10\n",
            "29/29 [==============================] - 39s 1s/step - loss: 0.2925 - accuracy: 0.9088 - val_loss: 1.5220 - val_accuracy: 0.6277 - lr: 0.0010\n",
            "Epoch 5/10\n",
            "29/29 [==============================] - 42s 1s/step - loss: 0.2429 - accuracy: 0.9099 - val_loss: 0.8762 - val_accuracy: 0.7316 - lr: 0.0010\n",
            "Epoch 6/10\n",
            "29/29 [==============================] - 40s 1s/step - loss: 0.1849 - accuracy: 0.9316 - val_loss: 1.2426 - val_accuracy: 0.6277 - lr: 0.0010\n",
            "Epoch 7/10\n",
            "29/29 [==============================] - 39s 1s/step - loss: 0.1791 - accuracy: 0.9305 - val_loss: 0.7248 - val_accuracy: 0.8009 - lr: 0.0010\n",
            "Epoch 8/10\n",
            "29/29 [==============================] - 39s 1s/step - loss: 0.2083 - accuracy: 0.9207 - val_loss: 1.9858 - val_accuracy: 0.5411 - lr: 0.0010\n",
            "Epoch 9/10\n",
            "29/29 [==============================] - 40s 1s/step - loss: 0.1971 - accuracy: 0.9381 - val_loss: 0.5973 - val_accuracy: 0.8571 - lr: 0.0010\n",
            "Epoch 10/10\n",
            "29/29 [==============================] - 39s 1s/step - loss: 0.1340 - accuracy: 0.9533 - val_loss: 0.6544 - val_accuracy: 0.8225 - lr: 0.0010\n",
            "8/8 [==============================] - 3s 376ms/step - loss: 0.6544 - accuracy: 0.8225\n",
            "Validation Accuracy: 0.822510838508606\n"
          ]
        }
      ]
    },
    {
      "cell_type": "markdown",
      "source": [
        "Run on test set to evaluate performance"
      ],
      "metadata": {
        "id": "ljvNFD8zxMAN"
      }
    },
    {
      "cell_type": "code",
      "source": [
        "loss, accuracy = model.evaluate(X_test, y_test)\n",
        "print(\"Test Loss:\", loss)\n",
        "print(\"Test Accuracy:\", accuracy)\n",
        "\n",
        "# Print confusion matrix\n",
        "y_pred_prob = model.predict(X_test)\n",
        "\n",
        "# Convert the predicted probabilities to class labels\n",
        "y_pred = np.argmax(y_pred_prob, axis=1)\n",
        "\n",
        "# Generate the confusion matrix\n",
        "cm = confusion_matrix(y_test, y_pred)\n",
        "\n",
        "# Display the confusion matrix\n",
        "labels = [\"Generalisation\", \"Arrow\", \"Line\"]  # Update with your actual class labels if needed\n",
        "disp = ConfusionMatrixDisplay(confusion_matrix=cm, display_labels=labels)\n",
        "disp.plot(cmap='Blues')\n",
        "\n",
        "import matplotlib.pyplot as plt\n",
        "plt.show()\n"
      ],
      "metadata": {
        "colab": {
          "base_uri": "https://localhost:8080/",
          "height": 520
        },
        "id": "BY2AXvWqxMTK",
        "outputId": "9bbcddcd-8704-4d4a-dad5-7a787a07dafa"
      },
      "execution_count": 29,
      "outputs": [
        {
          "output_type": "stream",
          "name": "stdout",
          "text": [
            "9/9 [==============================] - 5s 525ms/step - loss: 0.5976 - accuracy: 0.8854\n",
            "Test Loss: 0.5976424813270569\n",
            "Test Accuracy: 0.8854166865348816\n",
            "9/9 [==============================] - 8s 658ms/step\n"
          ]
        },
        {
          "output_type": "display_data",
          "data": {
            "text/plain": [
              "<Figure size 640x480 with 2 Axes>"
            ],
            "image/png": "[encoded data removed]"
          },
          "metadata": {}
        }
      ]
    },
    {
      "cell_type": "code",
      "source": [
        "def display_false_positives(X_test, y_test, y_pred, target_label=1, true_label=0):\n",
        "    \"\"\"\n",
        "    Display images where y_pred is target_label but y_test is true_label.\n",
        "\n",
        "    Parameters:\n",
        "    - X_test: Array of test images.\n",
        "    - y_test: Array of true labels.\n",
        "    - y_pred: Array of predicted labels.\n",
        "    - target_label: The predicted label of interest (default is 1).\n",
        "    - true_label: The true label of interest (default is 0).\n",
        "    - num_images: Number of images to display (default is 10).\n",
        "    \"\"\"\n",
        "    # Find indices where y_pred is target_label but y_test is true_label\n",
        "    false_positive_indices = np.where((y_pred == target_label) & (y_test == true_label))[0]\n",
        "    for fp in false_positive_indices:\n",
        "      image = X_test[fp].reshape((image_height,image_width, 3))\n",
        "\n",
        "      # Display the image\n",
        "      cv2_imshow(image)\n",
        "display_false_positives(X_test, y_test, y_pred, 0, 2)\n",
        "\n",
        "\n"
      ],
      "metadata": {
        "colab": {
          "base_uri": "https://localhost:8080/",
          "height": 1000
        },
        "id": "FkUroigW6OTV",
        "outputId": "b8807b08-f78f-48c7-bf8b-77510bf094a3"
      },
      "execution_count": 31,
      "outputs": [
        {
          "output_type": "display_data",
          "data": {
            "text/plain": [
              "<PIL.Image.Image image mode=RGB size=100x100>"
            ],
            "image/png": "[encoded data removed]"
          },
          "metadata": {}
        },
        {
          "output_type": "display_data",
          "data": {
            "text/plain": [
              "<PIL.Image.Image image mode=RGB size=100x100>"
            ],
            "image/png": "[encoded data removed]"
          },
          "metadata": {}
        },
        {
          "output_type": "display_data",
          "data": {
            "text/plain": [
              "<PIL.Image.Image image mode=RGB size=100x100>"
            ],
            "image/png": "[encoded data removed]"
          },
          "metadata": {}
        },
        {
          "output_type": "display_data",
          "data": {
            "text/plain": [
              "<PIL.Image.Image image mode=RGB size=100x100>"
            ],
            "image/png": "[encoded data removed]"
          },
          "metadata": {}
        },
        {
          "output_type": "display_data",
          "data": {
            "text/plain": [
              "<PIL.Image.Image image mode=RGB size=100x100>"
            ],
            "image/png": "[encoded data removed]"
          },
          "metadata": {}
        },
        {
          "output_type": "display_data",
          "data": {
            "text/plain": [
              "<PIL.Image.Image image mode=RGB size=100x100>"
            ],
            "image/png": "[encoded data removed]"
          },
          "metadata": {}
        },
        {
          "output_type": "display_data",
          "data": {
            "text/plain": [
              "<PIL.Image.Image image mode=RGB size=100x100>"
            ],
            "image/png": "[encoded data removed]"
          },
          "metadata": {}
        },
        {
          "output_type": "display_data",
          "data": {
            "text/plain": [
              "<PIL.Image.Image image mode=RGB size=100x100>"
            ],
            "image/png": "[encoded data removed]"
          },
          "metadata": {}
        },
        {
          "output_type": "display_data",
          "data": {
            "text/plain": [
              "<PIL.Image.Image image mode=RGB size=100x100>"
            ],
            "image/png": "[encoded data removed]"
          },
          "metadata": {}
        },
        {
          "output_type": "display_data",
          "data": {
            "text/plain": [
              "<PIL.Image.Image image mode=RGB size=100x100>"
            ],
            "image/png": "[encoded data removed]"
          },
          "metadata": {}
        },
        {
          "output_type": "display_data",
          "data": {
            "text/plain": [
              "<PIL.Image.Image image mode=RGB size=100x100>"
            ],
            "image/png": "[encoded data removed]"
          },
          "metadata": {}
        },
        {
          "output_type": "display_data",
          "data": {
            "text/plain": [
              "<PIL.Image.Image image mode=RGB size=100x100>"
            ],
            "image/png": "[encoded data removed]"
          },
          "metadata": {}
        },
        {
          "output_type": "display_data",
          "data": {
            "text/plain": [
              "<PIL.Image.Image image mode=RGB size=100x100>"
            ],
            "image/png": "[encoded data removed]"
          },
          "metadata": {}
        },
        {
          "output_type": "display_data",
          "data": {
            "text/plain": [
              "<PIL.Image.Image image mode=RGB size=100x100>"
            ],
            "image/png": "[encoded data removed]"
          },
          "metadata": {}
        },
        {
          "output_type": "display_data",
          "data": {
            "text/plain": [
              "<PIL.Image.Image image mode=RGB size=100x100>"
            ],
            "image/png": "[encoded data removed]"
          },
          "metadata": {}
        },
        {
          "output_type": "display_data",
          "data": {
            "text/plain": [
              "<PIL.Image.Image image mode=RGB size=100x100>"
            ],
            "image/png": "[encoded data removed]"
          },
          "metadata": {}
        },
        {
          "output_type": "display_data",
          "data": {
            "text/plain": [
              "<PIL.Image.Image image mode=RGB size=100x100>"
            ],
            "image/png": "[encoded data removed]"
          },
          "metadata": {}
        }
      ]
    },
    {
      "cell_type": "markdown",
      "source": [
        "Save model"
      ],
      "metadata": {
        "id": "89kMnxLN_Skw"
      }
    },
    {
      "cell_type": "code",
      "source": [
        "model.save(f'{data_path}/Relationship_classifier')"
      ],
      "metadata": {
        "id": "FwB__-l2_S6q"
      },
      "execution_count": 32,
      "outputs": []
    },
    {
      "cell_type": "markdown",
      "source": [
        "# Example: Using the model to classify an image"
      ],
      "metadata": {
        "id": "1-Py7M8GBLor"
      }
    },
    {
      "cell_type": "markdown",
      "source": [
        "Load model"
      ],
      "metadata": {
        "id": "wmK_tjicBV6s"
      }
    },
    {
      "cell_type": "code",
      "source": [
        "import tensorflow as tf\n",
        "# Load model\n",
        "model_path = f'{data_path}/Relationship_classifier'\n",
        "model = tf.keras.models.load_model(model_path)\n"
      ],
      "metadata": {
        "id": "W5X8kOSuIIKg"
      },
      "execution_count": 51,
      "outputs": []
    },
    {
      "cell_type": "markdown",
      "source": [
        "Load image and pre-process"
      ],
      "metadata": {
        "id": "M11xuNHIIMen"
      }
    },
    {
      "cell_type": "code",
      "source": [
        "def classify_relation_sign(image, model, input_size = (100,100)):\n",
        "    # Resize to the image size the model takes\n",
        "\n",
        "    image_resized = cv2.resize(image, input_size)\n",
        "    cv2_imshow(image_resized)\n",
        "    # Convert to rgb\n",
        "    #rgb_image = cv2.cvtColor(image_resized, cv2.COLOR_GRAY2RGB)\n",
        "\n",
        "\n",
        "    # Add batch dimension\n",
        "    image_batch = np.expand_dims(image_resized, axis=0)\n",
        "\n",
        "\n",
        "    # Predict the class probabilities\n",
        "    predictions = model.predict(image_batch)\n",
        "    print(predictions)\n",
        "\n",
        "    # Get the predicted class\n",
        "    predicted_class = np.argmax(predictions, axis=1)\n",
        "\n",
        "    return predicted_class\n",
        "\n",
        "\n",
        "\n",
        "image_path = \"virtual-currency-and-exchange-power17.png\"\n",
        "image = cv2.imread(image_path)\n",
        "\n",
        "cls = classify_relation_sign(image, model, (image_height, image_width))\n",
        "print(cls)"
      ],
      "metadata": {
        "id": "FI0nj4vWBVN4",
        "outputId": "55e9b4ff-6335-4cd0-9a5a-3b0f52640b85",
        "colab": {
          "base_uri": "https://localhost:8080/",
          "height": 171
        }
      },
      "execution_count": 61,
      "outputs": [
        {
          "output_type": "display_data",
          "data": {
            "text/plain": [
              "<PIL.Image.Image image mode=RGB size=100x100>"
            ],
            "image/png": "[encoded data removed]"
          },
          "metadata": {}
        },
        {
          "output_type": "stream",
          "name": "stdout",
          "text": [
            "1/1 [==============================] - 0s 117ms/step\n",
            "[[0.00333772 0.00171825 0.99494404]]\n",
            "[2]\n"
          ]
        }
      ]
    }
  ]
}